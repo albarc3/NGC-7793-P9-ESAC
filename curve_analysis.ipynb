{
 "cells": [
  {
   "cell_type": "markdown",
   "metadata": {},
   "source": [
    "# Analysis of the ULX's NGC7793 P9"
   ]
  },
  {
   "cell_type": "markdown",
   "metadata": {},
   "source": [
    "### Alba Rodríguez Castellano, UCM"
   ]
  },
  {
   "cell_type": "markdown",
   "metadata": {},
   "source": [
    "#### Supervised by: Felix Fuerst, ESAC"
   ]
  },
  {
   "cell_type": "code",
   "execution_count": 1,
   "metadata": {},
   "outputs": [],
   "source": [
    "import pandas as pd\n",
    "import astropy as atp\n",
    "from astropy import units as u\n",
    "import numpy as np\n",
    "from astropy.table import QTable\n",
    "from astropy.time import TimeMJD, Time, TimeString\n",
    "import pylab\n",
    "import matplotlib as mpl\n",
    "mpl.rcParams['font.size'] = 17.0\n",
    "mpl.rcParams['font.family'] = 'serif'\n",
    "mpl.rcParams['axes.linewidth'] = 2\n",
    "import matplotlib.pyplot as plt\n",
    "#plt.style.use('seaborn-whitegrid')"
   ]
  },
  {
   "cell_type": "markdown",
   "metadata": {},
   "source": [
    "### Part 1: Importing data"
   ]
  },
  {
   "cell_type": "markdown",
   "metadata": {},
   "source": [
    "To attach the data I'm going to use pandas function 'read_csv' indicating the format of the comments and separators of the .dat file:"
   ]
  },
  {
   "cell_type": "code",
   "execution_count": 2,
   "metadata": {},
   "outputs": [],
   "source": [
    "df= pd.read_csv('curve_plain.dat', sep='\\s+',comment='!', engine='python',header=None) \n",
    "upperlimits=pd.read_csv('upper.dat', sep='\\s+',comment='!', engine='python',header=None) "
   ]
  },
  {
   "cell_type": "markdown",
   "metadata": {},
   "source": [
    "I divided the dataframe into 2: one with the normal data and other with the upperlimits"
   ]
  },
  {
   "cell_type": "markdown",
   "metadata": {},
   "source": [
    "Let's see if everything is OK, showing up the first 5 rows"
   ]
  },
  {
   "cell_type": "code",
   "execution_count": 3,
   "metadata": {},
   "outputs": [
    {
     "data": {
      "text/html": [
       "<div>\n",
       "<style scoped>\n",
       "    .dataframe tbody tr th:only-of-type {\n",
       "        vertical-align: middle;\n",
       "    }\n",
       "\n",
       "    .dataframe tbody tr th {\n",
       "        vertical-align: top;\n",
       "    }\n",
       "\n",
       "    .dataframe thead th {\n",
       "        text-align: right;\n",
       "    }\n",
       "</style>\n",
       "<table border=\"1\" class=\"dataframe\">\n",
       "  <thead>\n",
       "    <tr style=\"text-align: right;\">\n",
       "      <th></th>\n",
       "      <th>0</th>\n",
       "      <th>1</th>\n",
       "      <th>2</th>\n",
       "      <th>3</th>\n",
       "      <th>4</th>\n",
       "      <th>5</th>\n",
       "      <th>6</th>\n",
       "    </tr>\n",
       "  </thead>\n",
       "  <tbody>\n",
       "    <tr>\n",
       "      <th>0</th>\n",
       "      <td>1.753207e+06</td>\n",
       "      <td>31529.095</td>\n",
       "      <td>-31529.095</td>\n",
       "      <td>0.003123</td>\n",
       "      <td>0.001368</td>\n",
       "      <td>-0.001078</td>\n",
       "      <td>::ObsID=00031791005</td>\n",
       "    </tr>\n",
       "    <tr>\n",
       "      <th>1</th>\n",
       "      <td>3.166740e+06</td>\n",
       "      <td>23626.948</td>\n",
       "      <td>-23626.948</td>\n",
       "      <td>0.001272</td>\n",
       "      <td>0.000870</td>\n",
       "      <td>-0.000619</td>\n",
       "      <td>::ObsID=00031791008</td>\n",
       "    </tr>\n",
       "    <tr>\n",
       "      <th>2</th>\n",
       "      <td>3.246647e+07</td>\n",
       "      <td>3119.464</td>\n",
       "      <td>-3119.464</td>\n",
       "      <td>0.006774</td>\n",
       "      <td>0.002274</td>\n",
       "      <td>-0.001873</td>\n",
       "      <td>::ObsID=00031791018</td>\n",
       "    </tr>\n",
       "    <tr>\n",
       "      <th>3</th>\n",
       "      <td>3.270564e+07</td>\n",
       "      <td>17630.496</td>\n",
       "      <td>-17630.496</td>\n",
       "      <td>0.010752</td>\n",
       "      <td>0.003401</td>\n",
       "      <td>-0.002843</td>\n",
       "      <td>::ObsID=00031791019</td>\n",
       "    </tr>\n",
       "    <tr>\n",
       "      <th>4</th>\n",
       "      <td>5.257380e+07</td>\n",
       "      <td>166.735</td>\n",
       "      <td>-166.735</td>\n",
       "      <td>0.018022</td>\n",
       "      <td>0.009752</td>\n",
       "      <td>-0.007203</td>\n",
       "      <td>::ObsID=00046280001</td>\n",
       "    </tr>\n",
       "  </tbody>\n",
       "</table>\n",
       "</div>"
      ],
      "text/plain": [
       "              0          1          2         3         4         5  \\\n",
       "0  1.753207e+06  31529.095 -31529.095  0.003123  0.001368 -0.001078   \n",
       "1  3.166740e+06  23626.948 -23626.948  0.001272  0.000870 -0.000619   \n",
       "2  3.246647e+07   3119.464  -3119.464  0.006774  0.002274 -0.001873   \n",
       "3  3.270564e+07  17630.496 -17630.496  0.010752  0.003401 -0.002843   \n",
       "4  5.257380e+07    166.735   -166.735  0.018022  0.009752 -0.007203   \n",
       "\n",
       "                     6  \n",
       "0  ::ObsID=00031791005  \n",
       "1  ::ObsID=00031791008  \n",
       "2  ::ObsID=00031791018  \n",
       "3  ::ObsID=00031791019  \n",
       "4  ::ObsID=00046280001  "
      ]
     },
     "execution_count": 3,
     "metadata": {},
     "output_type": "execute_result"
    }
   ],
   "source": [
    "df.head(5)"
   ]
  },
  {
   "cell_type": "markdown",
   "metadata": {},
   "source": [
    "OK, fine. So, next is to name the columns (time, time error (+ve), time error (-ve), source count-rate...) and drop the 6 column."
   ]
  },
  {
   "cell_type": "code",
   "execution_count": 4,
   "metadata": {},
   "outputs": [],
   "source": [
    "headers = [\"time\", \"time error (+ve)\", \"time error (-ve)\", \"source count-rate\",\"source error(+)\", \"source error (-)\",\"ObsID\"]\n",
    "df.columns = headers\n",
    "upperlimits.columns=headers\n",
    "\n",
    "#del(df['ObsID']) With this line we can drop \"ObsID\" column but I'm not going to do this for the moment"
   ]
  },
  {
   "cell_type": "code",
   "execution_count": 5,
   "metadata": {},
   "outputs": [
    {
     "data": {
      "text/html": [
       "<div>\n",
       "<style scoped>\n",
       "    .dataframe tbody tr th:only-of-type {\n",
       "        vertical-align: middle;\n",
       "    }\n",
       "\n",
       "    .dataframe tbody tr th {\n",
       "        vertical-align: top;\n",
       "    }\n",
       "\n",
       "    .dataframe thead th {\n",
       "        text-align: right;\n",
       "    }\n",
       "</style>\n",
       "<table border=\"1\" class=\"dataframe\">\n",
       "  <thead>\n",
       "    <tr style=\"text-align: right;\">\n",
       "      <th></th>\n",
       "      <th>time</th>\n",
       "      <th>time error (+ve)</th>\n",
       "      <th>time error (-ve)</th>\n",
       "      <th>source count-rate</th>\n",
       "      <th>source error(+)</th>\n",
       "      <th>source error (-)</th>\n",
       "      <th>ObsID</th>\n",
       "    </tr>\n",
       "  </thead>\n",
       "  <tbody>\n",
       "    <tr>\n",
       "      <th>0</th>\n",
       "      <td>1.753207e+06</td>\n",
       "      <td>31529.095</td>\n",
       "      <td>-31529.095</td>\n",
       "      <td>0.003123</td>\n",
       "      <td>0.001368</td>\n",
       "      <td>-0.001078</td>\n",
       "      <td>::ObsID=00031791005</td>\n",
       "    </tr>\n",
       "    <tr>\n",
       "      <th>1</th>\n",
       "      <td>3.166740e+06</td>\n",
       "      <td>23626.948</td>\n",
       "      <td>-23626.948</td>\n",
       "      <td>0.001272</td>\n",
       "      <td>0.000870</td>\n",
       "      <td>-0.000619</td>\n",
       "      <td>::ObsID=00031791008</td>\n",
       "    </tr>\n",
       "    <tr>\n",
       "      <th>2</th>\n",
       "      <td>3.246647e+07</td>\n",
       "      <td>3119.464</td>\n",
       "      <td>-3119.464</td>\n",
       "      <td>0.006774</td>\n",
       "      <td>0.002274</td>\n",
       "      <td>-0.001873</td>\n",
       "      <td>::ObsID=00031791018</td>\n",
       "    </tr>\n",
       "    <tr>\n",
       "      <th>3</th>\n",
       "      <td>3.270564e+07</td>\n",
       "      <td>17630.496</td>\n",
       "      <td>-17630.496</td>\n",
       "      <td>0.010752</td>\n",
       "      <td>0.003401</td>\n",
       "      <td>-0.002843</td>\n",
       "      <td>::ObsID=00031791019</td>\n",
       "    </tr>\n",
       "    <tr>\n",
       "      <th>4</th>\n",
       "      <td>5.257380e+07</td>\n",
       "      <td>166.735</td>\n",
       "      <td>-166.735</td>\n",
       "      <td>0.018022</td>\n",
       "      <td>0.009752</td>\n",
       "      <td>-0.007203</td>\n",
       "      <td>::ObsID=00046280001</td>\n",
       "    </tr>\n",
       "  </tbody>\n",
       "</table>\n",
       "</div>"
      ],
      "text/plain": [
       "           time  time error (+ve)  time error (-ve)  source count-rate  \\\n",
       "0  1.753207e+06         31529.095        -31529.095           0.003123   \n",
       "1  3.166740e+06         23626.948        -23626.948           0.001272   \n",
       "2  3.246647e+07          3119.464         -3119.464           0.006774   \n",
       "3  3.270564e+07         17630.496        -17630.496           0.010752   \n",
       "4  5.257380e+07           166.735          -166.735           0.018022   \n",
       "\n",
       "   source error(+)  source error (-)                ObsID  \n",
       "0         0.001368         -0.001078  ::ObsID=00031791005  \n",
       "1         0.000870         -0.000619  ::ObsID=00031791008  \n",
       "2         0.002274         -0.001873  ::ObsID=00031791018  \n",
       "3         0.003401         -0.002843  ::ObsID=00031791019  \n",
       "4         0.009752         -0.007203  ::ObsID=00046280001  "
      ]
     },
     "execution_count": 5,
     "metadata": {},
     "output_type": "execute_result"
    }
   ],
   "source": [
    "df.head(5)\n"
   ]
  },
  {
   "cell_type": "markdown",
   "metadata": {},
   "source": [
    "### Part 2: Changing x-axis scale from UTC(s) to MJD(d)"
   ]
  },
  {
   "cell_type": "markdown",
   "metadata": {},
   "source": [
    "Immediately, we are going to change the x-axis format to MJD, for that we have to keep in mind that T0 of the outburst is Swift MET=303612489.8 s, = 2010 Aug 16 at 00:48:03.716 UT. So the times shown in the graphic are the seconds that have passed since this moment. First, we are going to convert T0 to MJD, to do this we are going to use astropy package 'astropy.time' that help us to do this conversions more easily. For more information go to: https://docs.astropy.org/en/stable/time/"
   ]
  },
  {
   "cell_type": "code",
   "execution_count": 6,
   "metadata": {},
   "outputs": [
    {
     "data": {
      "text/plain": [
       "55423.033376342595"
      ]
     },
     "execution_count": 6,
     "metadata": {},
     "output_type": "execute_result"
    }
   ],
   "source": [
    "t=Time('2010:227:0:48:03.716',format='yday') #definimos T0\n",
    "t.mjd #lo pasamos a MJD\n"
   ]
  },
  {
   "cell_type": "markdown",
   "metadata": {},
   "source": [
    "Next, we are going to create an astropy Table from our dataframe with the package 'astropy.table' using Qtable.from_pandas() function. We do this because we want to convert our 'Time' data columns units from seconds to days and then to MJD. After converting df to table, we use the package 'astropy.units' to make these unit changes (https://docs.astropy.org/en/stable/units/):"
   ]
  },
  {
   "cell_type": "code",
   "execution_count": 7,
   "metadata": {},
   "outputs": [],
   "source": [
    "df=QTable.from_pandas(df)\n",
    "upperlimits=QTable.from_pandas(upperlimits)\n",
    "df['time'].unit = u.s#we define our column units\n",
    "#df['source count-rate'].unit = u.keV/u.s #we define our column units\n",
    "#df['source error(+)'].unit = u.keV/u.s #we define our column units\n",
    "upperlimits['time'].unit=u.s #we define our column units\n",
    "#upperlimits['source count-rate'].unit=u.keV/u.s #we define our column units\n",
    "#upperlimits['source error(+)'].unit=u.keV/u.s #we define our column units"
   ]
  },
  {
   "cell_type": "markdown",
   "metadata": {},
   "source": [
    "Now we are able to change to days:"
   ]
  },
  {
   "cell_type": "code",
   "execution_count": 8,
   "metadata": {},
   "outputs": [],
   "source": [
    "df['time']=df['time'].to(u.d)/u.d #we make it dimensionless\n",
    "upperlimits['time']=upperlimits['time'].to(u.d)/u.d #we make it dimensionless\n"
   ]
  },
  {
   "cell_type": "markdown",
   "metadata": {},
   "source": [
    "Therefore, to obtain finally what we want, we sum up the T0 in MJD with the columns of our dataframes that now are in days."
   ]
  },
  {
   "cell_type": "code",
   "execution_count": 9,
   "metadata": {},
   "outputs": [],
   "source": [
    "df['time']=df['time']+55423.033376342595\n",
    "upperlimits['time']=upperlimits['time']+55423.033376342595\n"
   ]
  },
  {
   "cell_type": "markdown",
   "metadata": {},
   "source": [
    "### Part 3: XMM_Newton observations points"
   ]
  },
  {
   "cell_type": "markdown",
   "metadata": {},
   "source": [
    "On this step, we are going to define the points where XMM-Newton has observed our source on a low-state and high-state:"
   ]
  },
  {
   "cell_type": "code",
   "execution_count": 15,
   "metadata": {},
   "outputs": [
    {
     "data": {
      "text/html": [
       "<div>\n",
       "<style scoped>\n",
       "    .dataframe tbody tr th:only-of-type {\n",
       "        vertical-align: middle;\n",
       "    }\n",
       "\n",
       "    .dataframe tbody tr th {\n",
       "        vertical-align: top;\n",
       "    }\n",
       "\n",
       "    .dataframe thead th {\n",
       "        text-align: right;\n",
       "    }\n",
       "</style>\n",
       "<table border=\"1\" class=\"dataframe\">\n",
       "  <thead>\n",
       "    <tr style=\"text-align: right;\">\n",
       "      <th></th>\n",
       "      <th>OBSERVATION.OBSERVATION_ID</th>\n",
       "      <th>OBSERVATION.TARGET</th>\n",
       "      <th>OBSERVATION.RA_NOM</th>\n",
       "      <th>OBSERVATION.DEC_NOM</th>\n",
       "      <th>OBSERVATION.REVOLUTION</th>\n",
       "      <th>OBSERVATION.START_UTC</th>\n",
       "      <th>OBSERVATION.END_UTC</th>\n",
       "      <th>OBSERVATION.DURATION</th>\n",
       "      <th>TARGET_TYPE.DESCRIPTION</th>\n",
       "      <th>PROPOSAL.PI_SURNAME</th>\n",
       "      <th>PROPOSAL.TYPE</th>\n",
       "      <th>OBSERVATION.PROPRIETARY_END_DATE</th>\n",
       "      <th>OBSERVATION.PPS_VERSION</th>\n",
       "      <th>OBSERVATION.COORD_OBS</th>\n",
       "      <th>OBSERVATION.OBSERVATION_DISTANCE_EQUATORIAL</th>\n",
       "    </tr>\n",
       "  </thead>\n",
       "  <tbody>\n",
       "    <tr>\n",
       "      <th>0</th>\n",
       "      <td>693760101</td>\n",
       "      <td>CXOU J235750.9-32372</td>\n",
       "      <td>23 57 51.01</td>\n",
       "      <td>-32 37 26.2</td>\n",
       "      <td>2276</td>\n",
       "      <td>2012-05-14 03:27:02.000</td>\n",
       "      <td>2012-05-14 17:36:19.000</td>\n",
       "      <td>50957</td>\n",
       "      <td>ULTRA-LUMINOUS X-RAY SOURCE (ULX)</td>\n",
       "      <td>Motch</td>\n",
       "      <td>GO</td>\n",
       "      <td>2013-05-25 00:00:00.000</td>\n",
       "      <td>17.56_20190403_1200</td>\n",
       "      <td>NaN</td>\n",
       "      <td>1.99</td>\n",
       "    </tr>\n",
       "    <tr>\n",
       "      <th>1</th>\n",
       "      <td>693760401</td>\n",
       "      <td>CXOU J235750.9-32372</td>\n",
       "      <td>23 57 51.00</td>\n",
       "      <td>-32 37 26.2</td>\n",
       "      <td>2557</td>\n",
       "      <td>2013-11-25 04:24:44.000</td>\n",
       "      <td>2013-11-25 18:01:24.000</td>\n",
       "      <td>49000</td>\n",
       "      <td>ULTRA-LUMINOUS X-RAY SOURCE (ULX)</td>\n",
       "      <td>Motch</td>\n",
       "      <td>GO</td>\n",
       "      <td>2014-12-04 23:00:00.000</td>\n",
       "      <td>17.56_20190403_1200</td>\n",
       "      <td>NaN</td>\n",
       "      <td>1.99</td>\n",
       "    </tr>\n",
       "    <tr>\n",
       "      <th>2</th>\n",
       "      <td>748390901</td>\n",
       "      <td>NGC 7793 ULX3</td>\n",
       "      <td>23 58 08.79</td>\n",
       "      <td>-32 34 04.0</td>\n",
       "      <td>2748</td>\n",
       "      <td>2014-12-10 23:13:22.000</td>\n",
       "      <td>2014-12-11 13:06:42.000</td>\n",
       "      <td>50000</td>\n",
       "      <td>ULTRA-LUMINOUS X-RAY SOURCE (ULX)</td>\n",
       "      <td>SCHARTEL (PS)</td>\n",
       "      <td>TOO</td>\n",
       "      <td>2015-06-28 22:00:00.000</td>\n",
       "      <td>17.56_20190403_1200</td>\n",
       "      <td>NaN</td>\n",
       "      <td>4.25</td>\n",
       "    </tr>\n",
       "    <tr>\n",
       "      <th>3</th>\n",
       "      <td>781800101</td>\n",
       "      <td>NGC7793 P13</td>\n",
       "      <td>23 57 51.00</td>\n",
       "      <td>-32 37 26.6</td>\n",
       "      <td>3012</td>\n",
       "      <td>2016-05-20 12:17:56.000</td>\n",
       "      <td>2016-05-21 03:01:16.000</td>\n",
       "      <td>53000</td>\n",
       "      <td>ULTRA-LUMINOUS X-RAY SOURCE (ULX)</td>\n",
       "      <td>Walton</td>\n",
       "      <td>Target-Opportunity</td>\n",
       "      <td>2017-06-12 22:00:00.000</td>\n",
       "      <td>17.56_20190403_1200</td>\n",
       "      <td>NuS</td>\n",
       "      <td>2.00</td>\n",
       "    </tr>\n",
       "    <tr>\n",
       "      <th>4</th>\n",
       "      <td>804670201</td>\n",
       "      <td>NGC7793 P13</td>\n",
       "      <td>23 57 51.00</td>\n",
       "      <td>-32 37 26.6</td>\n",
       "      <td>3191</td>\n",
       "      <td>2017-05-13 02:49:05.000</td>\n",
       "      <td>2017-05-13 11:15:45.000</td>\n",
       "      <td>30400</td>\n",
       "      <td>ULTRA-LUMINOUS X-RAY SOURCE (ULX)</td>\n",
       "      <td>Walton</td>\n",
       "      <td>GO</td>\n",
       "      <td>2018-12-14 23:00:00.000</td>\n",
       "      <td>17.56_20190403_1200</td>\n",
       "      <td>NaN</td>\n",
       "      <td>2.00</td>\n",
       "    </tr>\n",
       "  </tbody>\n",
       "</table>\n",
       "</div>"
      ],
      "text/plain": [
       "   OBSERVATION.OBSERVATION_ID    OBSERVATION.TARGET OBSERVATION.RA_NOM  \\\n",
       "0                   693760101  CXOU J235750.9-32372        23 57 51.01   \n",
       "1                   693760401  CXOU J235750.9-32372        23 57 51.00   \n",
       "2                   748390901         NGC 7793 ULX3        23 58 08.79   \n",
       "3                   781800101           NGC7793 P13        23 57 51.00   \n",
       "4                   804670201           NGC7793 P13        23 57 51.00   \n",
       "\n",
       "  OBSERVATION.DEC_NOM  OBSERVATION.REVOLUTION    OBSERVATION.START_UTC  \\\n",
       "0         -32 37 26.2                    2276  2012-05-14 03:27:02.000   \n",
       "1         -32 37 26.2                    2557  2013-11-25 04:24:44.000   \n",
       "2         -32 34 04.0                    2748  2014-12-10 23:13:22.000   \n",
       "3         -32 37 26.6                    3012  2016-05-20 12:17:56.000   \n",
       "4         -32 37 26.6                    3191  2017-05-13 02:49:05.000   \n",
       "\n",
       "       OBSERVATION.END_UTC  OBSERVATION.DURATION  \\\n",
       "0  2012-05-14 17:36:19.000                 50957   \n",
       "1  2013-11-25 18:01:24.000                 49000   \n",
       "2  2014-12-11 13:06:42.000                 50000   \n",
       "3  2016-05-21 03:01:16.000                 53000   \n",
       "4  2017-05-13 11:15:45.000                 30400   \n",
       "\n",
       "             TARGET_TYPE.DESCRIPTION PROPOSAL.PI_SURNAME       PROPOSAL.TYPE  \\\n",
       "0  ULTRA-LUMINOUS X-RAY SOURCE (ULX)               Motch                  GO   \n",
       "1  ULTRA-LUMINOUS X-RAY SOURCE (ULX)               Motch                  GO   \n",
       "2  ULTRA-LUMINOUS X-RAY SOURCE (ULX)       SCHARTEL (PS)                 TOO   \n",
       "3  ULTRA-LUMINOUS X-RAY SOURCE (ULX)              Walton  Target-Opportunity   \n",
       "4  ULTRA-LUMINOUS X-RAY SOURCE (ULX)              Walton                  GO   \n",
       "\n",
       "  OBSERVATION.PROPRIETARY_END_DATE OBSERVATION.PPS_VERSION  \\\n",
       "0          2013-05-25 00:00:00.000     17.56_20190403_1200   \n",
       "1          2014-12-04 23:00:00.000     17.56_20190403_1200   \n",
       "2          2015-06-28 22:00:00.000     17.56_20190403_1200   \n",
       "3          2017-06-12 22:00:00.000     17.56_20190403_1200   \n",
       "4          2018-12-14 23:00:00.000     17.56_20190403_1200   \n",
       "\n",
       "  OBSERVATION.COORD_OBS  OBSERVATION.OBSERVATION_DISTANCE_EQUATORIAL  \n",
       "0                   NaN                                         1.99  \n",
       "1                   NaN                                         1.99  \n",
       "2                   NaN                                         4.25  \n",
       "3                   NuS                                         2.00  \n",
       "4                   NaN                                         2.00  "
      ]
     },
     "execution_count": 15,
     "metadata": {},
     "output_type": "execute_result"
    }
   ],
   "source": [
    "xmm= pd.read_csv('xmm.csv')\n",
    "xmm.head(5)"
   ]
  },
  {
   "cell_type": "markdown",
   "metadata": {},
   "source": [
    "Now, we convert into astropy Table format in order to change its format as well."
   ]
  },
  {
   "cell_type": "code",
   "execution_count": 16,
   "metadata": {},
   "outputs": [],
   "source": [
    "xmm=QTable.from_pandas(xmm)\n",
    "xmm_start=Time(xmm['OBSERVATION.START_UTC'],format='iso')\n",
    "xmm_end=Time(xmm['OBSERVATION.END_UTC'],format='iso')\n",
    "xmm['OBSERVATION.START_UTC']=xmm_start.mjd #lo pasamos a MJD\n",
    "xmm['OBSERVATION.END_UTC']=xmm_end.mjd\n",
    "\n"
   ]
  },
  {
   "cell_type": "markdown",
   "metadata": {},
   "source": [
    "### Part 4: Plotting"
   ]
  },
  {
   "cell_type": "markdown",
   "metadata": {},
   "source": [
    "Now let's plot it! "
   ]
  },
  {
   "cell_type": "markdown",
   "metadata": {},
   "source": [
    "##### (WARNING! Take into account that variables with dimension at first can't be represented with mplt. Take a look to\n",
    "https://learn.astropy.org/Quantities.html for more information)\n"
   ]
  },
  {
   "cell_type": "code",
   "execution_count": 81,
   "metadata": {},
   "outputs": [
    {
     "data": {
      "image/png": "[encoded data removed]",
      "text/plain": [
       "<Figure size 720x504 with 1 Axes>"
      ]
     },
     "metadata": {},
     "output_type": "display_data"
    }
   ],
   "source": [
    "#ax1 = df.plot.scatter(x='time', y='source count-rate', c='aquamarine') #this option only suits to represent points alone\n",
    "plt.figure(figsize=(10,7))\n",
    "datos=plt.errorbar(df['time'],df['source count-rate'], yerr=df['source error(+)'], fmt='.c')\n",
    "limites=plt.errorbar(upperlimits['time'],upperlimits['source count-rate'], fmt='.m',yerr=0.005,uplims=True)\n",
    "for i in xmm['OBSERVATION.START_UTC']:\n",
    "    xmm_start1=plt.axvline(x=i,color='xkcd:light grey',ls='--')\n",
    "pylab.legend((datos,limites,xmm_start1),['NGC7793 P9 data','Upperlimits','XMM-Newton observations dates'],loc='upper left', bbox_to_anchor=(1.05, 1))\n",
    "plt.title(\"Flux vs time\") \n",
    "plt.ylabel(\"Count rate (0.3-10 keV)($s^{-1}$)\")                       \n",
    "plt.xlabel(\"Time(MJD)\") \n",
    "plt.savefig('lightcurve.png', bbox_inches='tight')"
   ]
  },
  {
   "cell_type": "markdown",
   "metadata": {},
   "source": [
    "Now we are going to plot the same figure but, rescaling the x-axis to see better the 'dense' curve starting in 57500"
   ]
  },
  {
   "cell_type": "code",
   "execution_count": 82,
   "metadata": {},
   "outputs": [
    {
     "data": {
      "image/png": "[encoded data removed]",
      "text/plain": [
       "<Figure size 720x504 with 1 Axes>"
      ]
     },
     "metadata": {},
     "output_type": "display_data"
    }
   ],
   "source": [
    "plt.figure(figsize=(10,7))\n",
    "datos=plt.errorbar(df['time'],df['source count-rate'], yerr=df['source error(+)'], fmt='.c')\n",
    "limites=plt.errorbar(upperlimits['time'],upperlimits['source count-rate'], fmt='.m',yerr=0.005,uplims=True)\n",
    "for i in xmm['OBSERVATION.START_UTC']:\n",
    "    xmm_start1=plt.axvline(x=i,color='xkcd:light grey',ls='--')\n",
    "pylab.legend((datos,limites,xmm_start1),['NGC7793 P9 data','Upperlimits','XMM-Newton observations dates'],loc='upper left', bbox_to_anchor=(1.05, 1))\n",
    "plt.title(\"Flux vs time\") \n",
    "plt.ylabel(\"Count rate (0.3-10 keV)($s^{-1}$)\")                       \n",
    "plt.xlabel(\"Time(MJD)\") \n",
    "plt.xlim(57500,59250)\n",
    "plt.savefig('lightcurve_zoom.png', bbox_inches='tight')"
   ]
  },
  {
   "cell_type": "markdown",
   "metadata": {},
   "source": [
    "As we can see, we only have XMM observations during a 'high' state. All the others are kind of during a low part of the lightcurve. However, both states are relevant to the analysis."
   ]
  }
 ],
 "metadata": {
  "kernelspec": {
   "display_name": "Python 3",
   "language": "python",
   "name": "python3"
  },
  "language_info": {
   "codemirror_mode": {
    "name": "ipython",
    "version": 3
   },
   "file_extension": ".py",
   "mimetype": "text/x-python",
   "name": "python",
   "nbconvert_exporter": "python",
   "pygments_lexer": "ipython3",
   "version": "3.8.5"
  }
 },
 "nbformat": 4,
 "nbformat_minor": 4
}
